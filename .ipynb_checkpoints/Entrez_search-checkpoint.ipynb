{
 "cells": [
  {
   "cell_type": "code",
   "execution_count": 1,
   "id": "6d562e80-4292-4cf3-a8c3-cbb6402e5ee7",
   "metadata": {},
   "outputs": [],
   "source": [
    "from Bio import Entrez\n",
    "import pandas as pd\n",
    "import json"
   ]
  },
  {
   "cell_type": "code",
   "execution_count": 2,
   "id": "7e65ac09-4db7-49b0-b551-f029617d7543",
   "metadata": {},
   "outputs": [],
   "source": [
    "# list of scientists and year they started at IMHR\n",
    "scientists = {'Lauri Tuominen': 2018, 'Synthia Guimond': 2018, 'Sara Tremblay': 2018, 'Robyn McQuaid': 2018,\n",
    "             'Clifford Cassidy': 2016, 'Natalia Jaworska': 2018, 'Jennifer L. Phillips' : 2007 , 'Georg Northoff': 2009,\n",
    "            'Michael Seto' : 2009 , 'Michael Bodnar': 2018, 'Stuart Fogel': 2017, 'Rebecca Robillard': 2018,\n",
    "             'Zachary Kaminsky': 2018, 'Pierre Blier': 2004, 'Reggie Taylor': 2018, \n",
    "              'Avery Berman': 2022, 'Andrew A. Nicholson': 2022}"
   ]
  },
  {
   "cell_type": "code",
   "execution_count": 3,
   "id": "2c6d8651-7f58-4242-b72d-d72a64267311",
   "metadata": {},
   "outputs": [],
   "source": [
    "Entrez.email = 'tuominenlj@gmail.com'"
   ]
  },
  {
   "cell_type": "code",
   "execution_count": 68,
   "id": "856cd9f6-2348-4d8c-926e-a337b77b24b6",
   "metadata": {},
   "outputs": [],
   "source": [
    "def searchPubMed(scientists): \n",
    "    search_results = {} \n",
    "    \n",
    "    for scientist in scientists.keys():\n",
    "    \n",
    "        handle = Entrez.esearch(db='pubmed', \n",
    "                                sort='relevance', \n",
    "                                retmax='500',\n",
    "                                retmode='xml', \n",
    "                                term=f'{scientist}[Author]')\n",
    "        search_results[scientist]  = Entrez.read(handle)\n",
    "    return search_results \n",
    "\n",
    "def fetch_publications(single_scientist):\n",
    "    id_list = single_scientist['IdList']\n",
    "    ids = ','.join(id_list)\n",
    "    handle = Entrez.efetch(db='pubmed',\n",
    "                           retmode='xml',\n",
    "                           id=ids)\n",
    "    publications = Entrez.read(handle)\n",
    "    return publications\n",
    "\n",
    "def flatten_publication(publication):\n",
    "    \n",
    "    out = {}\n",
    "\n",
    "    def flatten(x, name=''):\n",
    "        if type(x) is dict:\n",
    "            for a in x:\n",
    "                flatten(x[a], name + a + '_')\n",
    "        elif type(x) is list:\n",
    "            i = 0\n",
    "            for a in x:\n",
    "                flatten(a, name + str(i) + '_')\n",
    "                i += 1\n",
    "        else:\n",
    "            out[name[:-1]] = x\n",
    "\n",
    "    pub = json.dumps(publication)\n",
    "    pub = json.loads(pub)\n",
    "    flatten(pub)\n",
    "    return out"
   ]
  },
  {
   "cell_type": "code",
   "execution_count": 74,
   "id": "a692d1a4-440e-4962-9d1a-eb830da2589e",
   "metadata": {},
   "outputs": [],
   "source": [
    "# search pids for all scientists \n",
    "search_results = searchPubMed(scientists)\n",
    "\n",
    "# use pids to get publications for a single scientist at a time \n",
    "scientist = list(search_results.keys())[0]\n",
    "pids = search_results[scientist]\n",
    "publications_scientist1 = fetch_publications(pids)\n",
    "\n"
   ]
  },
  {
   "cell_type": "code",
   "execution_count": 76,
   "id": "6602718b-2849-4c81-b9c2-e7faee41721c",
   "metadata": {},
   "outputs": [],
   "source": [
    "# for one publication of all the publications of that scientist, flatten for entry\n",
    "\n",
    "f= flatten_publication(publications_scientist1['PubmedArticle'][0])\n"
   ]
  },
  {
   "cell_type": "code",
   "execution_count": 79,
   "id": "5ba69c08-a3db-46bb-bb5d-cbf0b47441bd",
   "metadata": {},
   "outputs": [
    {
     "data": {
      "text/plain": [
       "'Lauri Tuominen'"
      ]
     },
     "execution_count": 79,
     "metadata": {},
     "output_type": "execute_result"
    }
   ],
   "source": [
    "scientist"
   ]
  },
  {
   "cell_type": "code",
   "execution_count": 92,
   "id": "430563fc-c806-437e-9871-b121b2f39f2c",
   "metadata": {},
   "outputs": [
    {
     "data": {
      "text/html": [
       "<div>\n",
       "<style scoped>\n",
       "    .dataframe tbody tr th:only-of-type {\n",
       "        vertical-align: middle;\n",
       "    }\n",
       "\n",
       "    .dataframe tbody tr th {\n",
       "        vertical-align: top;\n",
       "    }\n",
       "\n",
       "    .dataframe thead th {\n",
       "        text-align: right;\n",
       "    }\n",
       "</style>\n",
       "<table border=\"1\" class=\"dataframe\">\n",
       "  <thead>\n",
       "    <tr style=\"text-align: right;\">\n",
       "      <th></th>\n",
       "      <th>Scientist</th>\n",
       "      <th>PMID</th>\n",
       "      <th>Title</th>\n",
       "      <th>Year</th>\n",
       "      <th>Journal</th>\n",
       "    </tr>\n",
       "  </thead>\n",
       "  <tbody>\n",
       "    <tr>\n",
       "      <th>0</th>\n",
       "      <td>Lauri Tuominen</td>\n",
       "      <td>28394427</td>\n",
       "      <td>Opioid system and human emotions.</td>\n",
       "      <td>2017</td>\n",
       "      <td>British journal of pharmacology</td>\n",
       "    </tr>\n",
       "  </tbody>\n",
       "</table>\n",
       "</div>"
      ],
      "text/plain": [
       "        Scientist      PMID                              Title  Year  \\\n",
       "0  Lauri Tuominen  28394427  Opioid system and human emotions.  2017   \n",
       "\n",
       "                           Journal  \n",
       "0  British journal of pharmacology  "
      ]
     },
     "execution_count": 92,
     "metadata": {},
     "output_type": "execute_result"
    }
   ],
   "source": [
    "dict= {'Scientist': scientist, 'PMID':f['MedlineCitation_PMID'], 'Title': f['MedlineCitation_Article_ArticleTitle'], \n",
    "       'Year': f['MedlineCitation_Article_ArticleDate_0_Year'],'Journal': f['MedlineCitation_Article_Journal_Title']\n",
    "      }\n",
    "df = pd.DataFrame([dict])\n",
    "df"
   ]
  },
  {
   "cell_type": "code",
   "execution_count": 91,
   "id": "61023227-70f8-4528-a633-15f6e7848343",
   "metadata": {},
   "outputs": [
    {
     "data": {
      "text/plain": [
       "['MedlineCitation_Article_AuthorList_0_Identifier_0',\n",
       " 'MedlineCitation_Article_AuthorList_0_AffiliationInfo_0_Affiliation',\n",
       " 'MedlineCitation_Article_AuthorList_0_LastName',\n",
       " 'MedlineCitation_Article_AuthorList_0_ForeName',\n",
       " 'MedlineCitation_Article_AuthorList_0_Initials',\n",
       " 'MedlineCitation_Article_AuthorList_1_AffiliationInfo_0_Affiliation',\n",
       " 'MedlineCitation_Article_AuthorList_1_LastName',\n",
       " 'MedlineCitation_Article_AuthorList_1_ForeName',\n",
       " 'MedlineCitation_Article_AuthorList_1_Initials']"
      ]
     },
     "execution_count": 91,
     "metadata": {},
     "output_type": "execute_result"
    }
   ],
   "source": [
    "# n_authors \n",
    "# list of authors \n",
    "# author position \n",
    "# affiliation \n",
    "\n",
    "[key for key in f.keys() if 'MedlineCitation_Article_AuthorList' in key]"
   ]
  },
  {
   "cell_type": "code",
   "execution_count": 93,
   "id": "853a58bd-5e9c-4b4d-b831-53ee133ae608",
   "metadata": {},
   "outputs": [
    {
     "data": {
      "text/plain": [
       "'Turku PET Centre and Department of Psychology, University of Turku, Turku, Finland.'"
      ]
     },
     "execution_count": 93,
     "metadata": {},
     "output_type": "execute_result"
    }
   ],
   "source": [
    "f['MedlineCitation_Article_AuthorList_0_AffiliationInfo_0_Affiliation']"
   ]
  },
  {
   "cell_type": "code",
   "execution_count": null,
   "id": "d89537e6-3e5d-456e-8bd0-29520bc4ed07",
   "metadata": {},
   "outputs": [],
   "source": []
  }
 ],
 "metadata": {
  "kernelspec": {
   "display_name": "Python 3 (ipykernel)",
   "language": "python",
   "name": "python3"
  },
  "language_info": {
   "codemirror_mode": {
    "name": "ipython",
    "version": 3
   },
   "file_extension": ".py",
   "mimetype": "text/x-python",
   "name": "python",
   "nbconvert_exporter": "python",
   "pygments_lexer": "ipython3",
   "version": "3.10.11"
  }
 },
 "nbformat": 4,
 "nbformat_minor": 5
}
