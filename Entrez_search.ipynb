{
 "cells": [
  {
   "cell_type": "code",
   "execution_count": 1,
   "id": "6d562e80-4292-4cf3-a8c3-cbb6402e5ee7",
   "metadata": {},
   "outputs": [],
   "source": [
    "from Bio import Entrez\n",
    "import pandas as pd\n",
    "import json"
   ]
  },
  {
   "cell_type": "code",
   "execution_count": 2,
   "id": "7e65ac09-4db7-49b0-b551-f029617d7543",
   "metadata": {},
   "outputs": [],
   "source": [
    "# list of scientists and year they started at IMHR\n",
    "scientists = {'Lauri Tuominen': 2018, 'Synthia Guimond': 2018, 'Sara Tremblay': 2018, 'Robyn McQuaid': 2018,\n",
    "             'Clifford Cassidy': 2016, 'Natalia Jaworska': 2018, 'Jennifer L. Phillips' : 2007 , 'Georg Northoff': 2009,\n",
    "            'Michael Seto' : 2009 , 'Michael Bodnar': 2018, 'Stuart Fogel': 2017, 'Rebecca Robillard': 2018,\n",
    "             'Zachary Kaminsky': 2018, 'Pierre Blier': 2004, 'Reggie Taylor': 2018, \n",
    "              'Avery Berman': 2022, 'Andrew A. Nicholson': 2022}"
   ]
  },
  {
   "cell_type": "code",
   "execution_count": 3,
   "id": "2c6d8651-7f58-4242-b72d-d72a64267311",
   "metadata": {},
   "outputs": [],
   "source": [
    "Entrez.email = 'tuominenlj@gmail.com'"
   ]
  },
  {
   "cell_type": "code",
   "execution_count": 68,
   "id": "856cd9f6-2348-4d8c-926e-a337b77b24b6",
   "metadata": {},
   "outputs": [],
   "source": [
    "def searchPubMed(scientists): \n",
    "    search_results = {} \n",
    "    \n",
    "    for scientist in scientists.keys():\n",
    "    \n",
    "        handle = Entrez.esearch(db='pubmed', \n",
    "                                sort='relevance', \n",
    "                                retmax='500',\n",
    "                                retmode='xml', \n",
    "                                term=f'{scientist}[Author]')\n",
    "        search_results[scientist]  = Entrez.read(handle)\n",
    "    return search_results \n",
    "\n",
    "def fetch_publications(single_scientist):\n",
    "    id_list = single_scientist['IdList']\n",
    "    ids = ','.join(id_list)\n",
    "    handle = Entrez.efetch(db='pubmed',\n",
    "                           retmode='xml',\n",
    "                           id=ids)\n",
    "    publications = Entrez.read(handle)\n",
    "    return publications\n",
    "\n",
    "def flatten_publication(publication):\n",
    "    \n",
    "    out = {}\n",
    "\n",
    "    def flatten(x, name=''):\n",
    "        if type(x) is dict:\n",
    "            for a in x:\n",
    "                flatten(x[a], name + a + '_')\n",
    "        elif type(x) is list:\n",
    "            i = 0\n",
    "            for a in x:\n",
    "                flatten(a, name + str(i) + '_')\n",
    "                i += 1\n",
    "        else:\n",
    "            out[name[:-1]] = x\n",
    "\n",
    "    pub = json.dumps(publication)\n",
    "    pub = json.loads(pub)\n",
    "    flatten(pub)\n",
    "    return out"
   ]
  },
  {
   "cell_type": "code",
   "execution_count": 5,
   "id": "a692d1a4-440e-4962-9d1a-eb830da2589e",
   "metadata": {},
   "outputs": [],
   "source": [
    "# search pids for all scientists \n",
    "search_results = searchPubMed(scientists)\n",
    "\n",
    "# use pids to get publications for a single scientist at a time \n",
    "pids = search_results[list(search_results.keys())[0]]\n",
    "publications_scientist1 = fetch_publications(pids)\n",
    "\n",
    "# for one publication of all the publications of that scientist, flatten for entry\n",
    "flatten_publication(scientist1['PubmedArticle'][0])\n"
   ]
  }
 ],
 "metadata": {
  "kernelspec": {
   "display_name": "Python 3 (ipykernel)",
   "language": "python",
   "name": "python3"
  },
  "language_info": {
   "codemirror_mode": {
    "name": "ipython",
    "version": 3
   },
   "file_extension": ".py",
   "mimetype": "text/x-python",
   "name": "python",
   "nbconvert_exporter": "python",
   "pygments_lexer": "ipython3",
   "version": "3.10.11"
  }
 },
 "nbformat": 4,
 "nbformat_minor": 5
}
